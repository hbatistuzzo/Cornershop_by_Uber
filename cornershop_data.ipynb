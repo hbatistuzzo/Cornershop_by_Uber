{
 "cells": [
  {
   "cell_type": "code",
   "execution_count": 5,
   "metadata": {},
   "outputs": [],
   "source": [
    "import numpy as np \n",
    "import pandas as pd \n",
    "pd.options.display.float_format = \"{:,.2f}\".format\n",
    "import seaborn as sns\n",
    "import matplotlib.pyplot as plt\n",
    "import sqlalchemy as db"
   ]
  },
  {
   "cell_type": "code",
   "execution_count": 14,
   "metadata": {},
   "outputs": [],
   "source": [
    "# Importing files with pandas\n",
    "\n",
    "storebranch = pd.read_csv('storebranch.csv')\n",
    "shoppers = pd.read_csv('shoppers.csv')\n",
    "orders = pd.read_csv('orders.csv')\n",
    "order_product=pd.read_csv('order_product.csv')"
   ]
  },
  {
   "cell_type": "markdown",
   "metadata": {},
   "source": [
    "### Data inspection: storebranch"
   ]
  },
  {
   "cell_type": "code",
   "execution_count": 4,
   "metadata": {},
   "outputs": [
    {
     "name": "stdout",
     "output_type": "stream",
     "text": [
      "<class 'pandas.core.frame.DataFrame'>\n",
      "RangeIndex: 113 entries, 0 to 112\n",
      "Data columns (total 4 columns):\n",
      " #   Column           Non-Null Count  Dtype  \n",
      "---  ------           --------------  -----  \n",
      " 0   store_branch_id  113 non-null    object \n",
      " 1   store            113 non-null    object \n",
      " 2   lat              113 non-null    float64\n",
      " 3   lng              113 non-null    float64\n",
      "dtypes: float64(2), object(2)\n",
      "memory usage: 3.7+ KB\n"
     ]
    }
   ],
   "source": [
    "storebranch.info()"
   ]
  },
  {
   "cell_type": "code",
   "execution_count": 10,
   "metadata": {},
   "outputs": [
    {
     "data": {
      "text/plain": [
       "(113, 4)"
      ]
     },
     "execution_count": 10,
     "metadata": {},
     "output_type": "execute_result"
    }
   ],
   "source": [
    "storebranch.shape"
   ]
  },
  {
   "cell_type": "code",
   "execution_count": 6,
   "metadata": {},
   "outputs": [
    {
     "data": {
      "text/html": [
       "<div>\n",
       "<style scoped>\n",
       "    .dataframe tbody tr th:only-of-type {\n",
       "        vertical-align: middle;\n",
       "    }\n",
       "\n",
       "    .dataframe tbody tr th {\n",
       "        vertical-align: top;\n",
       "    }\n",
       "\n",
       "    .dataframe thead th {\n",
       "        text-align: right;\n",
       "    }\n",
       "</style>\n",
       "<table border=\"1\" class=\"dataframe\">\n",
       "  <thead>\n",
       "    <tr style=\"text-align: right;\">\n",
       "      <th></th>\n",
       "      <th>store_branch_id</th>\n",
       "      <th>store</th>\n",
       "      <th>lat</th>\n",
       "      <th>lng</th>\n",
       "    </tr>\n",
       "  </thead>\n",
       "  <tbody>\n",
       "    <tr>\n",
       "      <th>0</th>\n",
       "      <td>cf0895f1e3beb8164f0a86e6f940ae56</td>\n",
       "      <td>c0b93cf93cf854981b8d6bd849eec4b0</td>\n",
       "      <td>18.16</td>\n",
       "      <td>-100.26</td>\n",
       "    </tr>\n",
       "    <tr>\n",
       "      <th>1</th>\n",
       "      <td>3ddd4c29cab4178d89d549c6ba65c236</td>\n",
       "      <td>044d56734d20e04984d846dade6d39f3</td>\n",
       "      <td>18.27</td>\n",
       "      <td>-100.32</td>\n",
       "    </tr>\n",
       "    <tr>\n",
       "      <th>2</th>\n",
       "      <td>e9763f24fd46d0b9e52d423207a87c3c</td>\n",
       "      <td>452ae015bf846e1d2932b7ea15720d64</td>\n",
       "      <td>18.27</td>\n",
       "      <td>-100.32</td>\n",
       "    </tr>\n",
       "    <tr>\n",
       "      <th>3</th>\n",
       "      <td>49b7d60d6095a9f1129ce798102b62f4</td>\n",
       "      <td>6447951cd071f6f045fd4e6194920926</td>\n",
       "      <td>18.25</td>\n",
       "      <td>-100.40</td>\n",
       "    </tr>\n",
       "    <tr>\n",
       "      <th>4</th>\n",
       "      <td>8f21cfda17b340aeee062220d0bee8e5</td>\n",
       "      <td>452ae015bf846e1d2932b7ea15720d64</td>\n",
       "      <td>18.20</td>\n",
       "      <td>-100.30</td>\n",
       "    </tr>\n",
       "  </tbody>\n",
       "</table>\n",
       "</div>"
      ],
      "text/plain": [
       "                    store_branch_id                             store   lat  \\\n",
       "0  cf0895f1e3beb8164f0a86e6f940ae56  c0b93cf93cf854981b8d6bd849eec4b0 18.16   \n",
       "1  3ddd4c29cab4178d89d549c6ba65c236  044d56734d20e04984d846dade6d39f3 18.27   \n",
       "2  e9763f24fd46d0b9e52d423207a87c3c  452ae015bf846e1d2932b7ea15720d64 18.27   \n",
       "3  49b7d60d6095a9f1129ce798102b62f4  6447951cd071f6f045fd4e6194920926 18.25   \n",
       "4  8f21cfda17b340aeee062220d0bee8e5  452ae015bf846e1d2932b7ea15720d64 18.20   \n",
       "\n",
       "      lng  \n",
       "0 -100.26  \n",
       "1 -100.32  \n",
       "2 -100.32  \n",
       "3 -100.40  \n",
       "4 -100.30  "
      ]
     },
     "execution_count": 6,
     "metadata": {},
     "output_type": "execute_result"
    }
   ],
   "source": [
    "storebranch.head()"
   ]
  },
  {
   "cell_type": "code",
   "execution_count": 7,
   "metadata": {},
   "outputs": [
    {
     "data": {
      "text/html": [
       "<div>\n",
       "<style scoped>\n",
       "    .dataframe tbody tr th:only-of-type {\n",
       "        vertical-align: middle;\n",
       "    }\n",
       "\n",
       "    .dataframe tbody tr th {\n",
       "        vertical-align: top;\n",
       "    }\n",
       "\n",
       "    .dataframe thead th {\n",
       "        text-align: right;\n",
       "    }\n",
       "</style>\n",
       "<table border=\"1\" class=\"dataframe\">\n",
       "  <thead>\n",
       "    <tr style=\"text-align: right;\">\n",
       "      <th></th>\n",
       "      <th>store_branch_id</th>\n",
       "      <th>store</th>\n",
       "      <th>lat</th>\n",
       "      <th>lng</th>\n",
       "    </tr>\n",
       "  </thead>\n",
       "  <tbody>\n",
       "  </tbody>\n",
       "</table>\n",
       "</div>"
      ],
      "text/plain": [
       "Empty DataFrame\n",
       "Columns: [store_branch_id, store, lat, lng]\n",
       "Index: []"
      ]
     },
     "execution_count": 7,
     "metadata": {},
     "output_type": "execute_result"
    }
   ],
   "source": [
    "storebranch[storebranch.duplicated()]\n",
    "\n",
    "# no duplicates"
   ]
  },
  {
   "cell_type": "markdown",
   "metadata": {},
   "source": [
    "### Data inspection: shoppers"
   ]
  },
  {
   "cell_type": "code",
   "execution_count": 16,
   "metadata": {},
   "outputs": [
    {
     "name": "stdout",
     "output_type": "stream",
     "text": [
      "<class 'pandas.core.frame.DataFrame'>\n",
      "RangeIndex: 600 entries, 0 to 599\n",
      "Data columns (total 6 columns):\n",
      " #   Column         Non-Null Count  Dtype  \n",
      "---  ------         --------------  -----  \n",
      " 0   shopper_id     600 non-null    object \n",
      " 1   seniority      600 non-null    object \n",
      " 2   found_rate     564 non-null    float64\n",
      " 3   picking_speed  600 non-null    float64\n",
      " 4   accepted_rate  594 non-null    float64\n",
      " 5   rating         566 non-null    float64\n",
      "dtypes: float64(4), object(2)\n",
      "memory usage: 28.2+ KB\n"
     ]
    }
   ],
   "source": [
    "shoppers.info()"
   ]
  },
  {
   "cell_type": "code",
   "execution_count": 21,
   "metadata": {},
   "outputs": [
    {
     "data": {
      "text/plain": [
       "(600, 6)"
      ]
     },
     "execution_count": 21,
     "metadata": {},
     "output_type": "execute_result"
    }
   ],
   "source": [
    "shoppers.shape # some nulls"
   ]
  },
  {
   "cell_type": "code",
   "execution_count": 27,
   "metadata": {},
   "outputs": [
    {
     "data": {
      "text/html": [
       "<div>\n",
       "<style scoped>\n",
       "    .dataframe tbody tr th:only-of-type {\n",
       "        vertical-align: middle;\n",
       "    }\n",
       "\n",
       "    .dataframe tbody tr th {\n",
       "        vertical-align: top;\n",
       "    }\n",
       "\n",
       "    .dataframe thead th {\n",
       "        text-align: right;\n",
       "    }\n",
       "</style>\n",
       "<table border=\"1\" class=\"dataframe\">\n",
       "  <thead>\n",
       "    <tr style=\"text-align: right;\">\n",
       "      <th></th>\n",
       "      <th>shopper_id</th>\n",
       "      <th>seniority</th>\n",
       "      <th>found_rate</th>\n",
       "      <th>picking_speed</th>\n",
       "      <th>accepted_rate</th>\n",
       "      <th>rating</th>\n",
       "    </tr>\n",
       "  </thead>\n",
       "  <tbody>\n",
       "    <tr>\n",
       "      <th>0</th>\n",
       "      <td>087ab65ceca40dbef697f585dc159d5d</td>\n",
       "      <td>ADVANCED</td>\n",
       "      <td>0.86</td>\n",
       "      <td>1.64</td>\n",
       "      <td>1.00</td>\n",
       "      <td>4.48</td>\n",
       "    </tr>\n",
       "    <tr>\n",
       "      <th>1</th>\n",
       "      <td>645973c41314d763b58dc2bceeeeffc9</td>\n",
       "      <td>INTERMEDIATE</td>\n",
       "      <td>0.83</td>\n",
       "      <td>2.83</td>\n",
       "      <td>0.96</td>\n",
       "      <td>4.79</td>\n",
       "    </tr>\n",
       "    <tr>\n",
       "      <th>2</th>\n",
       "      <td>82810715fdda44962e7e422015ea1f32</td>\n",
       "      <td>ADVANCED</td>\n",
       "      <td>0.87</td>\n",
       "      <td>1.27</td>\n",
       "      <td>0.88</td>\n",
       "      <td>4.84</td>\n",
       "    </tr>\n",
       "    <tr>\n",
       "      <th>3</th>\n",
       "      <td>416aa7dbd5a2f58d7bca96657e8faa1e</td>\n",
       "      <td>INTERMEDIATE</td>\n",
       "      <td>0.88</td>\n",
       "      <td>2.11</td>\n",
       "      <td>1.00</td>\n",
       "      <td>NaN</td>\n",
       "    </tr>\n",
       "    <tr>\n",
       "      <th>4</th>\n",
       "      <td>27a3e845a4c3eb7ded4748f84140a843</td>\n",
       "      <td>ADVANCED</td>\n",
       "      <td>0.85</td>\n",
       "      <td>1.50</td>\n",
       "      <td>1.00</td>\n",
       "      <td>4.84</td>\n",
       "    </tr>\n",
       "  </tbody>\n",
       "</table>\n",
       "</div>"
      ],
      "text/plain": [
       "                         shopper_id     seniority  found_rate  picking_speed  \\\n",
       "0  087ab65ceca40dbef697f585dc159d5d      ADVANCED        0.86           1.64   \n",
       "1  645973c41314d763b58dc2bceeeeffc9  INTERMEDIATE        0.83           2.83   \n",
       "2  82810715fdda44962e7e422015ea1f32      ADVANCED        0.87           1.27   \n",
       "3  416aa7dbd5a2f58d7bca96657e8faa1e  INTERMEDIATE        0.88           2.11   \n",
       "4  27a3e845a4c3eb7ded4748f84140a843      ADVANCED        0.85           1.50   \n",
       "\n",
       "   accepted_rate  rating  \n",
       "0           1.00    4.48  \n",
       "1           0.96    4.79  \n",
       "2           0.88    4.84  \n",
       "3           1.00     NaN  \n",
       "4           1.00    4.84  "
      ]
     },
     "execution_count": 27,
     "metadata": {},
     "output_type": "execute_result"
    }
   ],
   "source": [
    "shoppers.head()"
   ]
  },
  {
   "cell_type": "code",
   "execution_count": 22,
   "metadata": {},
   "outputs": [
    {
     "data": {
      "text/html": [
       "<div>\n",
       "<style scoped>\n",
       "    .dataframe tbody tr th:only-of-type {\n",
       "        vertical-align: middle;\n",
       "    }\n",
       "\n",
       "    .dataframe tbody tr th {\n",
       "        vertical-align: top;\n",
       "    }\n",
       "\n",
       "    .dataframe thead th {\n",
       "        text-align: right;\n",
       "    }\n",
       "</style>\n",
       "<table border=\"1\" class=\"dataframe\">\n",
       "  <thead>\n",
       "    <tr style=\"text-align: right;\">\n",
       "      <th></th>\n",
       "      <th>shopper_id</th>\n",
       "      <th>seniority</th>\n",
       "      <th>found_rate</th>\n",
       "      <th>picking_speed</th>\n",
       "      <th>accepted_rate</th>\n",
       "      <th>rating</th>\n",
       "    </tr>\n",
       "  </thead>\n",
       "  <tbody>\n",
       "  </tbody>\n",
       "</table>\n",
       "</div>"
      ],
      "text/plain": [
       "Empty DataFrame\n",
       "Columns: [shopper_id, seniority, found_rate, picking_speed, accepted_rate, rating]\n",
       "Index: []"
      ]
     },
     "execution_count": 22,
     "metadata": {},
     "output_type": "execute_result"
    }
   ],
   "source": [
    "shoppers[shoppers.duplicated()] # no duplicates"
   ]
  },
  {
   "cell_type": "markdown",
   "metadata": {},
   "source": [
    "### Data inspection: orders"
   ]
  },
  {
   "cell_type": "code",
   "execution_count": 23,
   "metadata": {},
   "outputs": [
    {
     "name": "stdout",
     "output_type": "stream",
     "text": [
      "<class 'pandas.core.frame.DataFrame'>\n",
      "RangeIndex: 7295 entries, 0 to 7294\n",
      "Data columns (total 11 columns):\n",
      " #   Column           Non-Null Count  Dtype  \n",
      "---  ------           --------------  -----  \n",
      " 0   order_id         7295 non-null   object \n",
      " 1   lat              7295 non-null   float64\n",
      " 2   lng              7295 non-null   float64\n",
      " 3   dow              7295 non-null   int64  \n",
      " 4   promised_time    7295 non-null   object \n",
      " 5   actual_time      7295 non-null   object \n",
      " 6   on_demand        7295 non-null   bool   \n",
      " 7   picker_id        7295 non-null   object \n",
      " 8   driver_id        7295 non-null   object \n",
      " 9   store_branch_id  7295 non-null   object \n",
      " 10  total_minutes    6543 non-null   float64\n",
      "dtypes: bool(1), float64(3), int64(1), object(6)\n",
      "memory usage: 577.2+ KB\n"
     ]
    }
   ],
   "source": [
    "orders.info()"
   ]
  },
  {
   "cell_type": "code",
   "execution_count": 24,
   "metadata": {},
   "outputs": [
    {
     "data": {
      "text/plain": [
       "(7295, 11)"
      ]
     },
     "execution_count": 24,
     "metadata": {},
     "output_type": "execute_result"
    }
   ],
   "source": [
    "orders.shape #some nulls in total_minutes"
   ]
  },
  {
   "cell_type": "code",
   "execution_count": 28,
   "metadata": {},
   "outputs": [
    {
     "data": {
      "text/html": [
       "<div>\n",
       "<style scoped>\n",
       "    .dataframe tbody tr th:only-of-type {\n",
       "        vertical-align: middle;\n",
       "    }\n",
       "\n",
       "    .dataframe tbody tr th {\n",
       "        vertical-align: top;\n",
       "    }\n",
       "\n",
       "    .dataframe thead th {\n",
       "        text-align: right;\n",
       "    }\n",
       "</style>\n",
       "<table border=\"1\" class=\"dataframe\">\n",
       "  <thead>\n",
       "    <tr style=\"text-align: right;\">\n",
       "      <th></th>\n",
       "      <th>order_id</th>\n",
       "      <th>lat</th>\n",
       "      <th>lng</th>\n",
       "      <th>dow</th>\n",
       "      <th>promised_time</th>\n",
       "      <th>actual_time</th>\n",
       "      <th>on_demand</th>\n",
       "      <th>picker_id</th>\n",
       "      <th>driver_id</th>\n",
       "      <th>store_branch_id</th>\n",
       "      <th>total_minutes</th>\n",
       "    </tr>\n",
       "  </thead>\n",
       "  <tbody>\n",
       "    <tr>\n",
       "      <th>0</th>\n",
       "      <td>6abd5e28d01b7c733fe37485294235dc</td>\n",
       "      <td>18.22</td>\n",
       "      <td>-100.31</td>\n",
       "      <td>2</td>\n",
       "      <td>13:00:00</td>\n",
       "      <td>12:00:15</td>\n",
       "      <td>False</td>\n",
       "      <td>09bb5bfe76adbb474dddbdd111a51623</td>\n",
       "      <td>09bb5bfe76adbb474dddbdd111a51623</td>\n",
       "      <td>0dc6fb5924a8b917bc641666ed02663c</td>\n",
       "      <td>91.80</td>\n",
       "    </tr>\n",
       "    <tr>\n",
       "      <th>1</th>\n",
       "      <td>0d37a1eea001f01b40232ffd496ff663</td>\n",
       "      <td>18.18</td>\n",
       "      <td>-100.36</td>\n",
       "      <td>2</td>\n",
       "      <td>13:00:00</td>\n",
       "      <td>10:28:10</td>\n",
       "      <td>False</td>\n",
       "      <td>c4c722114a82fa21654e57e9636d68b0</td>\n",
       "      <td>c4c722114a82fa21654e57e9636d68b0</td>\n",
       "      <td>2bbf833e689d24b697f1f3529c3f3c4b</td>\n",
       "      <td>206.60</td>\n",
       "    </tr>\n",
       "    <tr>\n",
       "      <th>2</th>\n",
       "      <td>528428e9b9eb5d3bd0dbdd8da692b087</td>\n",
       "      <td>18.27</td>\n",
       "      <td>-100.32</td>\n",
       "      <td>2</td>\n",
       "      <td>11:00:00</td>\n",
       "      <td>10:40:50</td>\n",
       "      <td>False</td>\n",
       "      <td>e15c7a67d0ea9a54dffb410bc1d8528b</td>\n",
       "      <td>e15c7a67d0ea9a54dffb410bc1d8528b</td>\n",
       "      <td>8d891dfc0e29d744c15c18adced74a68</td>\n",
       "      <td>93.46</td>\n",
       "    </tr>\n",
       "    <tr>\n",
       "      <th>3</th>\n",
       "      <td>d3f7be6d64eae7405b7bf024e04807a2</td>\n",
       "      <td>18.25</td>\n",
       "      <td>-100.32</td>\n",
       "      <td>2</td>\n",
       "      <td>10:00:00</td>\n",
       "      <td>09:41:47</td>\n",
       "      <td>False</td>\n",
       "      <td>d1f0bd4b237c1358f09db22076b940e7</td>\n",
       "      <td>d1f0bd4b237c1358f09db22076b940e7</td>\n",
       "      <td>0dc6fb5924a8b917bc641666ed02663c</td>\n",
       "      <td>124.78</td>\n",
       "    </tr>\n",
       "    <tr>\n",
       "      <th>4</th>\n",
       "      <td>e0ad6533b6cd9a382ec6c1d473c5036c</td>\n",
       "      <td>18.23</td>\n",
       "      <td>-100.32</td>\n",
       "      <td>2</td>\n",
       "      <td>11:00:00</td>\n",
       "      <td>10:07:53</td>\n",
       "      <td>False</td>\n",
       "      <td>06a71e8ab0c6db5ce22a4689fd76a3f4</td>\n",
       "      <td>06a71e8ab0c6db5ce22a4689fd76a3f4</td>\n",
       "      <td>afd0a7b8d546fcc697bb93a5934b65c3</td>\n",
       "      <td>130.32</td>\n",
       "    </tr>\n",
       "  </tbody>\n",
       "</table>\n",
       "</div>"
      ],
      "text/plain": [
       "                           order_id   lat     lng  dow promised_time  \\\n",
       "0  6abd5e28d01b7c733fe37485294235dc 18.22 -100.31    2      13:00:00   \n",
       "1  0d37a1eea001f01b40232ffd496ff663 18.18 -100.36    2      13:00:00   \n",
       "2  528428e9b9eb5d3bd0dbdd8da692b087 18.27 -100.32    2      11:00:00   \n",
       "3  d3f7be6d64eae7405b7bf024e04807a2 18.25 -100.32    2      10:00:00   \n",
       "4  e0ad6533b6cd9a382ec6c1d473c5036c 18.23 -100.32    2      11:00:00   \n",
       "\n",
       "  actual_time  on_demand                         picker_id  \\\n",
       "0    12:00:15      False  09bb5bfe76adbb474dddbdd111a51623   \n",
       "1    10:28:10      False  c4c722114a82fa21654e57e9636d68b0   \n",
       "2    10:40:50      False  e15c7a67d0ea9a54dffb410bc1d8528b   \n",
       "3    09:41:47      False  d1f0bd4b237c1358f09db22076b940e7   \n",
       "4    10:07:53      False  06a71e8ab0c6db5ce22a4689fd76a3f4   \n",
       "\n",
       "                          driver_id                   store_branch_id  \\\n",
       "0  09bb5bfe76adbb474dddbdd111a51623  0dc6fb5924a8b917bc641666ed02663c   \n",
       "1  c4c722114a82fa21654e57e9636d68b0  2bbf833e689d24b697f1f3529c3f3c4b   \n",
       "2  e15c7a67d0ea9a54dffb410bc1d8528b  8d891dfc0e29d744c15c18adced74a68   \n",
       "3  d1f0bd4b237c1358f09db22076b940e7  0dc6fb5924a8b917bc641666ed02663c   \n",
       "4  06a71e8ab0c6db5ce22a4689fd76a3f4  afd0a7b8d546fcc697bb93a5934b65c3   \n",
       "\n",
       "   total_minutes  \n",
       "0          91.80  \n",
       "1         206.60  \n",
       "2          93.46  \n",
       "3         124.78  \n",
       "4         130.32  "
      ]
     },
     "execution_count": 28,
     "metadata": {},
     "output_type": "execute_result"
    }
   ],
   "source": [
    "orders.head()"
   ]
  },
  {
   "cell_type": "code",
   "execution_count": 25,
   "metadata": {},
   "outputs": [
    {
     "data": {
      "text/html": [
       "<div>\n",
       "<style scoped>\n",
       "    .dataframe tbody tr th:only-of-type {\n",
       "        vertical-align: middle;\n",
       "    }\n",
       "\n",
       "    .dataframe tbody tr th {\n",
       "        vertical-align: top;\n",
       "    }\n",
       "\n",
       "    .dataframe thead th {\n",
       "        text-align: right;\n",
       "    }\n",
       "</style>\n",
       "<table border=\"1\" class=\"dataframe\">\n",
       "  <thead>\n",
       "    <tr style=\"text-align: right;\">\n",
       "      <th></th>\n",
       "      <th>order_id</th>\n",
       "      <th>lat</th>\n",
       "      <th>lng</th>\n",
       "      <th>dow</th>\n",
       "      <th>promised_time</th>\n",
       "      <th>actual_time</th>\n",
       "      <th>on_demand</th>\n",
       "      <th>picker_id</th>\n",
       "      <th>driver_id</th>\n",
       "      <th>store_branch_id</th>\n",
       "      <th>total_minutes</th>\n",
       "    </tr>\n",
       "  </thead>\n",
       "  <tbody>\n",
       "  </tbody>\n",
       "</table>\n",
       "</div>"
      ],
      "text/plain": [
       "Empty DataFrame\n",
       "Columns: [order_id, lat, lng, dow, promised_time, actual_time, on_demand, picker_id, driver_id, store_branch_id, total_minutes]\n",
       "Index: []"
      ]
     },
     "execution_count": 25,
     "metadata": {},
     "output_type": "execute_result"
    }
   ],
   "source": [
    "orders[orders.duplicated()] # no duplicates"
   ]
  },
  {
   "cell_type": "markdown",
   "metadata": {},
   "source": [
    "### Data inspection: order_product"
   ]
  },
  {
   "cell_type": "code",
   "execution_count": 19,
   "metadata": {},
   "outputs": [
    {
     "name": "stdout",
     "output_type": "stream",
     "text": [
      "<class 'pandas.core.frame.DataFrame'>\n",
      "RangeIndex: 120876 entries, 0 to 120875\n",
      "Data columns (total 5 columns):\n",
      " #   Column          Non-Null Count   Dtype  \n",
      "---  ------          --------------   -----  \n",
      " 0   order_id        120876 non-null  object \n",
      " 1   product_id      120876 non-null  object \n",
      " 2   quantity        120876 non-null  float64\n",
      " 3   quantity_found  120876 non-null  float64\n",
      " 4   buy_unit        120876 non-null  object \n",
      "dtypes: float64(2), object(3)\n",
      "memory usage: 4.6+ MB\n"
     ]
    }
   ],
   "source": [
    "order_product.info()"
   ]
  },
  {
   "cell_type": "code",
   "execution_count": 26,
   "metadata": {},
   "outputs": [
    {
     "data": {
      "text/plain": [
       "(120876, 5)"
      ]
     },
     "execution_count": 26,
     "metadata": {},
     "output_type": "execute_result"
    }
   ],
   "source": [
    "order_product.shape # no nulls"
   ]
  },
  {
   "cell_type": "code",
   "execution_count": 29,
   "metadata": {},
   "outputs": [
    {
     "data": {
      "text/html": [
       "<div>\n",
       "<style scoped>\n",
       "    .dataframe tbody tr th:only-of-type {\n",
       "        vertical-align: middle;\n",
       "    }\n",
       "\n",
       "    .dataframe tbody tr th {\n",
       "        vertical-align: top;\n",
       "    }\n",
       "\n",
       "    .dataframe thead th {\n",
       "        text-align: right;\n",
       "    }\n",
       "</style>\n",
       "<table border=\"1\" class=\"dataframe\">\n",
       "  <thead>\n",
       "    <tr style=\"text-align: right;\">\n",
       "      <th></th>\n",
       "      <th>order_id</th>\n",
       "      <th>product_id</th>\n",
       "      <th>quantity</th>\n",
       "      <th>quantity_found</th>\n",
       "      <th>buy_unit</th>\n",
       "    </tr>\n",
       "  </thead>\n",
       "  <tbody>\n",
       "    <tr>\n",
       "      <th>0</th>\n",
       "      <td>bdfc44fb525986b7bab8c589fc47e853</td>\n",
       "      <td>ab9757d9892b0e83ab3a1c1af0c84c52</td>\n",
       "      <td>0.75</td>\n",
       "      <td>0.15</td>\n",
       "      <td>KG</td>\n",
       "    </tr>\n",
       "    <tr>\n",
       "      <th>1</th>\n",
       "      <td>bdfc44fb525986b7bab8c589fc47e853</td>\n",
       "      <td>f1f042251bf634d44f338fbaf13b16e4</td>\n",
       "      <td>0.30</td>\n",
       "      <td>0.40</td>\n",
       "      <td>KG</td>\n",
       "    </tr>\n",
       "    <tr>\n",
       "      <th>2</th>\n",
       "      <td>bdfc44fb525986b7bab8c589fc47e853</td>\n",
       "      <td>0630d47440965509b0b3f80fd1b3578f</td>\n",
       "      <td>1.00</td>\n",
       "      <td>1.00</td>\n",
       "      <td>UN</td>\n",
       "    </tr>\n",
       "    <tr>\n",
       "      <th>3</th>\n",
       "      <td>bdfc44fb525986b7bab8c589fc47e853</td>\n",
       "      <td>9dd69b1f300666d5573e3a9934f2e03e</td>\n",
       "      <td>2.00</td>\n",
       "      <td>2.00</td>\n",
       "      <td>UN</td>\n",
       "    </tr>\n",
       "    <tr>\n",
       "      <th>4</th>\n",
       "      <td>bdfc44fb525986b7bab8c589fc47e853</td>\n",
       "      <td>3dfcdbe308bde67370649dd875f2507b</td>\n",
       "      <td>1.00</td>\n",
       "      <td>1.00</td>\n",
       "      <td>UN</td>\n",
       "    </tr>\n",
       "  </tbody>\n",
       "</table>\n",
       "</div>"
      ],
      "text/plain": [
       "                           order_id                        product_id  \\\n",
       "0  bdfc44fb525986b7bab8c589fc47e853  ab9757d9892b0e83ab3a1c1af0c84c52   \n",
       "1  bdfc44fb525986b7bab8c589fc47e853  f1f042251bf634d44f338fbaf13b16e4   \n",
       "2  bdfc44fb525986b7bab8c589fc47e853  0630d47440965509b0b3f80fd1b3578f   \n",
       "3  bdfc44fb525986b7bab8c589fc47e853  9dd69b1f300666d5573e3a9934f2e03e   \n",
       "4  bdfc44fb525986b7bab8c589fc47e853  3dfcdbe308bde67370649dd875f2507b   \n",
       "\n",
       "   quantity  quantity_found buy_unit  \n",
       "0      0.75            0.15       KG  \n",
       "1      0.30            0.40       KG  \n",
       "2      1.00            1.00       UN  \n",
       "3      2.00            2.00       UN  \n",
       "4      1.00            1.00       UN  "
      ]
     },
     "execution_count": 29,
     "metadata": {},
     "output_type": "execute_result"
    }
   ],
   "source": [
    "order_product.head()"
   ]
  },
  {
   "cell_type": "code",
   "execution_count": 35,
   "metadata": {},
   "outputs": [
    {
     "data": {
      "text/html": [
       "<div>\n",
       "<style scoped>\n",
       "    .dataframe tbody tr th:only-of-type {\n",
       "        vertical-align: middle;\n",
       "    }\n",
       "\n",
       "    .dataframe tbody tr th {\n",
       "        vertical-align: top;\n",
       "    }\n",
       "\n",
       "    .dataframe thead th {\n",
       "        text-align: right;\n",
       "    }\n",
       "</style>\n",
       "<table border=\"1\" class=\"dataframe\">\n",
       "  <thead>\n",
       "    <tr style=\"text-align: right;\">\n",
       "      <th></th>\n",
       "      <th>order_id</th>\n",
       "      <th>product_id</th>\n",
       "      <th>quantity</th>\n",
       "      <th>quantity_found</th>\n",
       "      <th>buy_unit</th>\n",
       "    </tr>\n",
       "  </thead>\n",
       "  <tbody>\n",
       "  </tbody>\n",
       "</table>\n",
       "</div>"
      ],
      "text/plain": [
       "Empty DataFrame\n",
       "Columns: [order_id, product_id, quantity, quantity_found, buy_unit]\n",
       "Index: []"
      ]
     },
     "execution_count": 35,
     "metadata": {},
     "output_type": "execute_result"
    }
   ],
   "source": [
    "order_product[order_product.duplicated()] # huh, 3 duplicates.."
   ]
  },
  {
   "cell_type": "code",
   "execution_count": 34,
   "metadata": {},
   "outputs": [],
   "source": [
    "order_product = order_product.drop_duplicates() #cleaned"
   ]
  },
  {
   "cell_type": "markdown",
   "metadata": {},
   "source": [
    "## Preparing SQL ingestion"
   ]
  },
  {
   "cell_type": "code",
   "execution_count": null,
   "metadata": {},
   "outputs": [],
   "source": [
    "db_server='pymysql'\n",
    "user='root'\n",
    "db_port = '3306'\n",
    "password = 'password'\n",
    "ip = '127.0.0.1'\n",
    "db_name = 'cornershop' # schema do sql check\n",
    "engine = db.create_engine(f'mysql+{db_server}://{user}:{password}@{ip}:{db_port}/{db_name}?charset=utf8')\n",
    "conn = engine.connect()"
   ]
  },
  {
   "cell_type": "code",
   "execution_count": null,
   "metadata": {},
   "outputs": [],
   "source": [
    "storebranch.to_sql('storebranch', conn, if_exists='replace', index=False)"
   ]
  },
  {
   "cell_type": "code",
   "execution_count": null,
   "metadata": {},
   "outputs": [],
   "source": [
    "shoppers.to_sql('shoppers', conn, if_exists='replace', index=False)"
   ]
  },
  {
   "cell_type": "code",
   "execution_count": null,
   "metadata": {},
   "outputs": [],
   "source": [
    "orders.to_sql('orders', conn, if_exists='replace', index=False)"
   ]
  },
  {
   "cell_type": "code",
   "execution_count": null,
   "metadata": {},
   "outputs": [],
   "source": [
    "order_product.to_sql('order_product', conn, if_exists='replace', index=False)"
   ]
  }
 ],
 "metadata": {
  "kernelspec": {
   "display_name": "Python 3.9.13 ('base')",
   "language": "python",
   "name": "python3"
  },
  "language_info": {
   "codemirror_mode": {
    "name": "ipython",
    "version": 3
   },
   "file_extension": ".py",
   "mimetype": "text/x-python",
   "name": "python",
   "nbconvert_exporter": "python",
   "pygments_lexer": "ipython3",
   "version": "3.9.13"
  },
  "orig_nbformat": 4,
  "vscode": {
   "interpreter": {
    "hash": "88279d2366fe020547cde40dd65aa0e3aa662a6ec1f3ca12d88834876c85e1a6"
   }
  }
 },
 "nbformat": 4,
 "nbformat_minor": 2
}
